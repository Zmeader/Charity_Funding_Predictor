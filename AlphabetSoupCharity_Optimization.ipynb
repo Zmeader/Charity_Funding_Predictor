{
 "cells": [
  {
   "cell_type": "code",
   "execution_count": null,
   "id": "3e584a9c",
   "metadata": {},
   "outputs": [],
   "source": [
    "# Import our dependencies\n",
    "from sklearn.model_selection import train_test_split\n",
    "from sklearn.preprocessing import StandardScaler\n",
    "import pandas as pd\n",
    "import tensorflow as tf\n",
    "\n",
    "#  Import and read the charity_data.csv.\n",
    "import pandas as pd \n",
    "application_df = pd.read_csv(\"Resources/charity_data.csv\")\n",
    "application_df.head()"
   ]
  },
  {
   "cell_type": "code",
   "execution_count": null,
   "id": "681adfd6",
   "metadata": {},
   "outputs": [],
   "source": [
    "#Drop EIN and Special_considerations\n",
    "application_df = application_df.drop(columns=[\"EIN\", \"SPECIAL_CONSIDERATIONS\"])\n",
    "application_df"
   ]
  },
  {
   "cell_type": "code",
   "execution_count": null,
   "id": "4d20268c",
   "metadata": {},
   "outputs": [],
   "source": [
    "# Look at Name value counts for binning\n",
    "v_counts = application_df[\"NAME\"].value_counts()\n",
    "v_counts"
   ]
  },
  {
   "cell_type": "code",
   "execution_count": null,
   "id": "ef9ad913",
   "metadata": {},
   "outputs": [],
   "source": [
    "# Choose a cutoff value and create a list of application types to be replaced\n",
    "# cut out the names of companies that have less instances/cut out outliers\n",
    "Names_to_replace = list(v_counts[v_counts<10].index)"
   ]
  },
  {
   "cell_type": "code",
   "execution_count": null,
   "id": "fd02cdd6",
   "metadata": {},
   "outputs": [],
   "source": [
    "# Replace in dataframe\n",
    "for name in Names_to_replace:\n",
    "    application_df['NAME'] = application_df['NAME'].replace(name,\"Other\")\n",
    "\n",
    "# Check to make sure binning was successful\n",
    "application_df['NAME'].value_counts()"
   ]
  },
  {
   "cell_type": "code",
   "execution_count": null,
   "id": "14ec48a3",
   "metadata": {},
   "outputs": [],
   "source": [
    "# Look at CLASSIFICATION value counts for binning\n",
    "bin_classifier = application_df[\"CLASSIFICATION\"].value_counts()\n",
    "bin_classifier"
   ]
  },
  {
   "cell_type": "code",
   "execution_count": null,
   "id": "1c09d082",
   "metadata": {},
   "outputs": [],
   "source": [
    "# You may find it helpful to look at CLASSIFICATION value counts >1\n",
    "bin_classification = bin_classifier[bin_classifier>1]\n",
    "bin_classification"
   ]
  },
  {
   "cell_type": "code",
   "execution_count": null,
   "id": "8d9d0876",
   "metadata": {},
   "outputs": [],
   "source": [
    "# Choose a cutoff value and create a list of classifications to be replaced\n",
    "# use the variable name `classifications_to_replace and up the amount to 100\n",
    "classifications_to_replace = list(bin_classifier[bin_classifier<100].index)\n",
    "classifications_to_replace"
   ]
  },
  {
   "cell_type": "code",
   "execution_count": null,
   "id": "2d1a1a3f",
   "metadata": {},
   "outputs": [],
   "source": [
    "# Replace in dataframe\n",
    "for cls in classifications_to_replace:\n",
    "    application_df['CLASSIFICATION'] = application_df['CLASSIFICATION'].replace(cls,\"Other\")\n",
    "    \n",
    "# Check to make sure binning was successful\n",
    "application_df['CLASSIFICATION'].value_counts()"
   ]
  },
  {
   "cell_type": "code",
   "execution_count": null,
   "id": "219652d4",
   "metadata": {},
   "outputs": [],
   "source": [
    "# Convert categorical data to numeric with `pd.get_dummies`\n",
    "application_df = pd.get_dummies(application_df, dtype=float)\n",
    "application_df.head(10)"
   ]
  },
  {
   "cell_type": "code",
   "execution_count": null,
   "id": "ac7ba3c0",
   "metadata": {},
   "outputs": [],
   "source": [
    "# Split our preprocessed data into our features and target arrays\n",
    "y = application_df[\"IS_SUCCESSFUL\"].values\n",
    "X = application_df.drop(\"IS_SUCCESSFUL\", axis=1).values\n",
    "# Split the preprocessed data into a training and testing dataset\n",
    "X_train, X_test, y_train, y_test = train_test_split(X, y, random_state=40)"
   ]
  },
  {
   "cell_type": "code",
   "execution_count": null,
   "id": "47d6b81c",
   "metadata": {},
   "outputs": [],
   "source": [
    "# Create a StandardScaler instances\n",
    "scaler = StandardScaler()\n",
    "\n",
    "# Fit the StandardScaler\n",
    "X_scaler = scaler.fit(X_train)\n",
    "\n",
    "# Scale the data\n",
    "X_train_scaled = X_scaler.transform(X_train)\n",
    "X_test_scaled = X_scaler.transform(X_test)"
   ]
  },
  {
   "cell_type": "code",
   "execution_count": null,
   "id": "272cc0a3",
   "metadata": {},
   "outputs": [],
   "source": [
    "# Define the model - deep neural net, i.e., the number of input features and hidden nodes for each layer.\n",
    "input_features = len(X_train_scaled[0])\n",
    "hidden_layer_nodes1 = 10\n",
    "hidden_layer_nodes2 = 20\n",
    "\n",
    "nn = tf.keras.models.Sequential()\n",
    "\n",
    "# First hidden layer\n",
    "nn.add(tf.keras.layers.Dense(units=hidden_layer_nodes1, input_dim=input_features, activation = \"relu\"))\n",
    "\n",
    "# Second hidden layer\n",
    "nn.add(tf.keras.layers.Dense(units=hidden_layer_nodes2, input_dim=input_features, activation = \"relu\"))\n",
    "\n",
    "# Output layer\n",
    "nn.add(tf.keras.layers.Dense(units=1, activation = \"sigmoid\"))\n",
    "\n",
    "# Check the structure of the model\n",
    "nn.summary()"
   ]
  },
  {
   "cell_type": "code",
   "execution_count": null,
   "id": "a6cba869",
   "metadata": {},
   "outputs": [],
   "source": [
    "# Compile the model\n",
    "nn.compile(loss = 'binary_crossentropy', optimizer = 'adam', metrics=['accuracy'])"
   ]
  },
  {
   "cell_type": "code",
   "execution_count": null,
   "id": "824c7b1e",
   "metadata": {},
   "outputs": [],
   "source": [
    "# Train the model\n",
    "model_fit = nn.fit(X_train_scaled, y_train, epochs=100)"
   ]
  },
  {
   "cell_type": "code",
   "execution_count": null,
   "id": "03178ab1",
   "metadata": {},
   "outputs": [],
   "source": [
    "# Evaluate the model using the test data\n",
    "model_loss, model_accuracy = nn.evaluate(X_test_scaled,y_test,verbose=2)\n",
    "print(f\"Loss: {model_loss}, Accuracy: {model_accuracy}\")"
   ]
  },
  {
   "cell_type": "code",
   "execution_count": null,
   "id": "7f104e5c",
   "metadata": {},
   "outputs": [],
   "source": [
    "nn.save(\"AlphabetSoupCharity_Optimization.h5\")"
   ]
  },
  {
   "cell_type": "code",
   "execution_count": null,
   "id": "d30c7322",
   "metadata": {},
   "outputs": [],
   "source": []
  }
 ],
 "metadata": {
  "kernelspec": {
   "display_name": "Python [conda env:PythonData38] *",
   "language": "python",
   "name": "conda-env-PythonData38-py"
  },
  "language_info": {
   "codemirror_mode": {
    "name": "ipython",
    "version": 3
   },
   "file_extension": ".py",
   "mimetype": "text/x-python",
   "name": "python",
   "nbconvert_exporter": "python",
   "pygments_lexer": "ipython3",
   "version": "3.8.12"
  }
 },
 "nbformat": 4,
 "nbformat_minor": 5
}
